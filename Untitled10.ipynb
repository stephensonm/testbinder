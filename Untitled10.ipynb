{
 "cells": [
  {
   "cell_type": "markdown",
   "id": "ed57b02f",
   "metadata": {},
   "source": [
    "This is a test"
   ]
  },
  {
   "cell_type": "code",
   "execution_count": 2,
   "id": "6ecfc7d4",
   "metadata": {},
   "outputs": [
    {
     "name": "stdout",
     "output_type": "stream",
     "text": [
      "[1] 0.7300354\n",
      "[1] 2\n",
      "[1] 2.948467\n",
      "[1] 3.956203\n",
      "[1] 5.015688\n",
      "[1] 6.026507\n",
      "[1] 7.171296\n",
      "[1] 7.833276\n",
      "[1] 8.945367\n",
      "[1] 10.18164\n"
     ]
    }
   ],
   "source": [
    "for(i in 1:10){\n",
    "    print(mean(rnorm(100,i,1)))    \n",
    "}"
   ]
  },
  {
   "cell_type": "code",
   "execution_count": null,
   "id": "7683a369",
   "metadata": {},
   "outputs": [],
   "source": []
  }
 ],
 "metadata": {
  "kernelspec": {
   "display_name": "R",
   "language": "R",
   "name": "ir"
  },
  "language_info": {
   "codemirror_mode": "r",
   "file_extension": ".r",
   "mimetype": "text/x-r-source",
   "name": "R",
   "pygments_lexer": "r",
   "version": "4.1.0"
  }
 },
 "nbformat": 4,
 "nbformat_minor": 5
}
